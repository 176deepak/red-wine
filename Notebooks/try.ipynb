{
 "cells": [
  {
   "cell_type": "code",
   "execution_count": 1,
   "id": "68dd9fcb",
   "metadata": {},
   "outputs": [],
   "source": [
    "import pandas as pd"
   ]
  },
  {
   "cell_type": "code",
   "execution_count": 2,
   "id": "341769db",
   "metadata": {},
   "outputs": [],
   "source": [
    "df = pd.read_csv('E:/Projects/red_wine/Data/Raw/winequality-red.csv')"
   ]
  },
  {
   "cell_type": "code",
   "execution_count": 12,
   "id": "ec9033a7",
   "metadata": {},
   "outputs": [
    {
     "data": {
      "text/plain": [
       "0       Bad\n",
       "1       Bad\n",
       "2       Bad\n",
       "3         6\n",
       "4       Bad\n",
       "       ... \n",
       "1594    Bad\n",
       "1595      6\n",
       "1596      6\n",
       "1597    Bad\n",
       "1598      6\n",
       "Name: quality, Length: 1599, dtype: object"
      ]
     },
     "execution_count": 12,
     "metadata": {},
     "output_type": "execute_result"
    }
   ],
   "source": [
    "df['quality']"
   ]
  },
  {
   "cell_type": "code",
   "execution_count": null,
   "id": "d7a7ee5a",
   "metadata": {},
   "outputs": [],
   "source": []
  }
 ],
 "metadata": {
  "kernelspec": {
   "display_name": "Python 3 (ipykernel)",
   "language": "python",
   "name": "python3"
  },
  "language_info": {
   "codemirror_mode": {
    "name": "ipython",
    "version": 3
   },
   "file_extension": ".py",
   "mimetype": "text/x-python",
   "name": "python",
   "nbconvert_exporter": "python",
   "pygments_lexer": "ipython3",
   "version": "3.8.16"
  }
 },
 "nbformat": 4,
 "nbformat_minor": 5
}
